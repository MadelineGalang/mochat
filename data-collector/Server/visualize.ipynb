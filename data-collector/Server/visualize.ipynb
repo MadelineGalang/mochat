{
 "cells": [
  {
   "cell_type": "code",
   "execution_count": 1,
   "metadata": {},
   "outputs": [],
   "source": [
    "import seaborn as sns\n",
    "import pandas as pd\n",
    "import matplotlib.pyplot as plt\n",
    "import numpy as np\n",
    "import os\n",
    "import model\n",
    "from model import header"
   ]
  },
  {
   "cell_type": "code",
   "execution_count": null,
   "metadata": {},
   "outputs": [],
   "source": [
    "%load_ext autoreload\n",
    "%autoreload 2"
   ]
  },
  {
   "cell_type": "code",
   "execution_count": null,
   "metadata": {},
   "outputs": [],
   "source": [
    "from model import interpolate_data\n",
    "\n",
    "\n",
    "def visualize(identifier, sensor, gestureName):\n",
    "    data = pd.read_csv(f'data\\\\{gestureName}\\\\{identifier}_{sensor}.csv', names=header)\n",
    "    p_data = interpolate_data(data)\n",
    "    ylim = (-2, 2)\n",
    "    if sensor == \"acc\":\n",
    "        ylim = (-10, 10)\n",
    "    p_data.plot(title=f\"{identifier}_{sensor}\", ylim=ylim)\n",
    "identifier = \"20230714013228\"\n",
    "gesture = \"circle_in\"\n",
    "visualize(identifier, \"gyro\", gesture)\n",
    "visualize(identifier, \"linear\", gesture)\n",
    "visualize(identifier, \"acc\", gesture)"
   ]
  },
  {
   "cell_type": "code",
   "execution_count": null,
   "metadata": {},
   "outputs": [],
   "source": [
    "from model import merge_sensors_from_file\n",
    "identifier = \"20230714013228\"\n",
    "gesture = \"circle_in\"\n",
    "\n",
    "merge_sensors_from_file(identifier, gesture).plot(title=f\"{identifier}_{gesture}\")"
   ]
  }
 ],
 "metadata": {
  "kernelspec": {
   "display_name": "Python 3",
   "language": "python",
   "name": "python3"
  },
  "language_info": {
   "codemirror_mode": {
    "name": "ipython",
    "version": 3
   },
   "file_extension": ".py",
   "mimetype": "text/x-python",
   "name": "python",
   "nbconvert_exporter": "python",
   "pygments_lexer": "ipython3",
   "version": "3.11.4"
  },
  "orig_nbformat": 4
 },
 "nbformat": 4,
 "nbformat_minor": 2
}
