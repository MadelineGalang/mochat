{
 "cells": [
  {
   "cell_type": "code",
   "execution_count": 39,
   "metadata": {},
   "outputs": [],
   "source": [
    "import seaborn as sns\n",
    "import pandas as pd\n",
    "import matplotlib.pyplot as plt\n",
    "import numpy as np\n",
    "import os\n",
    "import model\n",
    "from model import header"
   ]
  },
  {
   "cell_type": "code",
   "execution_count": 40,
   "metadata": {},
   "outputs": [
    {
     "name": "stdout",
     "output_type": "stream",
     "text": [
      "The autoreload extension is already loaded. To reload it, use:\n",
      "  %reload_ext autoreload\n"
     ]
    }
   ],
   "source": [
    "%load_ext autoreload\n",
    "%autoreload 2"
   ]
  },
  {
   "cell_type": "code",
   "execution_count": 41,
   "metadata": {},
   "outputs": [
    {
     "name": "stdout",
     "output_type": "stream",
     "text": [
      "700\n",
      "700\n"
     ]
    },
    {
     "data": {
      "text/plain": [
       "(array([[[  1.3096284 ,   0.4141969 ,  11.243171  , ...,   3.69665059,\n",
       "            4.03378083,   3.19412433],\n",
       "         [  1.8267759 ,   8.810662  ,   0.62009823, ...,  10.84653121,\n",
       "           13.64534049,   8.54261926],\n",
       "         [  1.8962077 ,   8.765172  ,   0.6871359 , ...,   7.20101136,\n",
       "            7.55436674,   3.35259141],\n",
       "         ...,\n",
       "         [  4.000711  ,   0.79966336,  -0.94810385, ...,   5.18456611,\n",
       "            7.93899409,   7.52197105],\n",
       "         [  4.000711  ,   0.79966336,  -0.94810385, ...,   5.18456611,\n",
       "            7.93899409,   7.52197105],\n",
       "         [  4.000711  ,   0.79966336,  -0.94810385, ...,   5.18456611,\n",
       "            7.93899409,   7.52197105]],\n",
       " \n",
       "        [[  0.6991069 ,   3.2944214 ,  14.628572  , ...,   8.63922887,\n",
       "           10.71942252,   6.59011532],\n",
       "         [  4.5322237 , -16.110582  ,   3.8307228 , ...,   1.28493333,\n",
       "            1.65443775,   1.33201404],\n",
       "         [  4.3766007 , -16.031574  ,   3.8881836 , ...,   1.3953375 ,\n",
       "            1.64248392,   1.21606834],\n",
       "         ...,\n",
       "         [  0.533907  ,   1.958457  ,  12.20564   , ...,   5.99165748,\n",
       "            6.0615101 ,   3.45578124],\n",
       "         [  0.533907  ,   1.958457  ,  12.20564   , ...,   5.99165748,\n",
       "            6.0615101 ,   3.45578124],\n",
       "         [  0.533907  ,   1.958457  ,  12.20564   , ...,   5.99165748,\n",
       "            6.0615101 ,   3.45578124]],\n",
       " \n",
       "        [[  1.2545617 ,   1.5610195 , -16.812084  , ...,   9.41178323,\n",
       "           14.81516828,  11.8316737 ],\n",
       "         [  5.377377  , -15.205575  ,   6.667852  , ...,   0.83126193,\n",
       "            0.83518348,   0.48254021],\n",
       "         [  5.2887917 , -15.195998  ,   6.603208  , ...,   0.84409428,\n",
       "            0.86304239,   0.50383585],\n",
       "         ...,\n",
       "         [  0.7182605 ,  -4.120421  ,  -5.377377  , ...,   5.57670845,\n",
       "            3.3002574 ,   4.8265973 ],\n",
       "         [  0.7182605 ,  -4.120421  ,  -5.377377  , ...,   5.57670845,\n",
       "            3.3002574 ,   4.8265973 ],\n",
       "         [  0.7182605 ,  -4.120421  ,  -5.377377  , ...,   5.57670845,\n",
       "            3.3002574 ,   4.8265973 ]],\n",
       " \n",
       "        ...,\n",
       " \n",
       "        [[  6.090849  , -22.574928  , -11.796232  , ...,  13.65929864,\n",
       "           18.69104956,  14.19091676],\n",
       "         [  3.37642288, -13.64694988,  -4.80695855, ...,  13.65929864,\n",
       "           18.69104956,  14.19091676],\n",
       "         [  0.66199677,  -4.71897175,   2.1823149 , ...,   1.1093528 ,\n",
       "            3.37596806,   3.2151412 ],\n",
       "         ...,\n",
       "         [  6.5361705 ,  -3.8905778 ,  -6.397307  , ...,   0.25341525,\n",
       "            0.26978361,   0.28144347],\n",
       "         [  6.5361705 ,  -3.8905778 ,  -6.397307  , ...,   0.25341525,\n",
       "            0.26978361,   0.28144347],\n",
       "         [  6.5361705 ,  -3.8905778 ,  -6.397307  , ...,   0.25341525,\n",
       "            0.26978361,   0.28144347]],\n",
       " \n",
       "        [[ -1.3503298 ,  12.591106  ,  11.580753  , ...,  12.95245222,\n",
       "           12.9803067 ,   2.2993524 ],\n",
       "         [ -1.0666169 ,  -0.51355628,  20.099323  , ...,   4.03364673,\n",
       "            8.41776854,   7.62614737],\n",
       "         [ -1.0965444 ,  -0.5650316 ,  19.850327  , ...,   1.5289373 ,\n",
       "           10.27620629,  10.30807271],\n",
       "         ...,\n",
       "         [  7.9032598 ,  -4.570531  ,  -3.9863458 , ...,   0.41766984,\n",
       "            0.28494017,   0.34916788],\n",
       "         [  7.9032598 ,  -4.570531  ,  -3.9863458 , ...,   0.41766984,\n",
       "            0.28494017,   0.34916788],\n",
       "         [  7.9032598 ,  -4.570531  ,  -3.9863458 , ...,   0.41766984,\n",
       "            0.28494017,   0.34916788]],\n",
       " \n",
       "        [[ -2.9999347 ,   6.775591  ,  11.853693  , ...,  14.5507556 ,\n",
       "           16.54189671,   8.22634767],\n",
       "         [ -8.21091475, -14.1437465 ,  -4.97155975, ...,   1.66484804,\n",
       "            3.42678878,   3.78269024],\n",
       "         [ -8.166622  , -14.152126  ,  -4.8147397 , ...,   3.83994414,\n",
       "            3.79877344,   0.87924277],\n",
       "         ...,\n",
       "         [  6.9527617 ,  -5.7269306 ,  -4.333505  , ...,   0.34992222,\n",
       "            0.45811284,   0.3075501 ],\n",
       "         [  6.9527617 ,  -5.7269306 ,  -4.333505  , ...,   0.34992222,\n",
       "            0.45811284,   0.3075501 ],\n",
       "         [  6.9527617 ,  -5.7269306 ,  -4.333505  , ...,   0.34992222,\n",
       "            0.45811284,   0.3075501 ]]]),\n",
       " array([[1, 0, 0, 0, 0, 0],\n",
       "        [1, 0, 0, 0, 0, 0],\n",
       "        [1, 0, 0, 0, 0, 0],\n",
       "        ...,\n",
       "        [0, 0, 0, 0, 1, 0],\n",
       "        [0, 0, 0, 0, 1, 0],\n",
       "        [0, 0, 0, 0, 1, 0]]))"
      ]
     },
     "execution_count": 41,
     "metadata": {},
     "output_type": "execute_result"
    }
   ],
   "source": [
    "from model import preprocess_X, preprocess_y, merge_sensors_3d_from_file, merge_sensors_from_file, get_dummy\n",
    "X = []\n",
    "y = []\n",
    "for gestureName in os.listdir(\"data\"):\n",
    "    # get files in folder\n",
    "    identifiers = set()\n",
    "    for fileName in os.listdir(f\"data\\\\{gestureName}\"):\n",
    "        identifier = fileName.split(\"_\")[0]\n",
    "        identifiers.add(identifier)\n",
    "    for identifier in identifiers:\n",
    "        X.append(merge_sensors_from_file(identifier, gestureName))\n",
    "        y.append(gestureName)\n",
    "\n",
    "X.extend(X)\n",
    "y.extend(y)\n",
    "X.extend(X)\n",
    "y.extend(y)\n",
    "\n",
    "X = preprocess_X(X)\n",
    "y = preprocess_y(y)\n",
    "\n",
    "\n",
    "\n",
    "print(len(X))\n",
    "print(len(y))\n",
    "X, y"
   ]
  },
  {
   "cell_type": "code",
   "execution_count": 38,
   "metadata": {},
   "outputs": [
    {
     "data": {
      "text/plain": [
       "((490, 160, 21), (105, 160, 21), (105, 160, 21))"
      ]
     },
     "execution_count": 38,
     "metadata": {},
     "output_type": "execute_result"
    }
   ],
   "source": [
    "# use sklearn to split dataset\n",
    "from sklearn.model_selection import train_test_split\n",
    "\n",
    "# split dataset into training and 'remaining data'\n",
    "X_train, X_rem, y_train, y_rem = train_test_split(X, y, test_size=0.3, stratify=y)\n",
    "\n",
    "# split remaining data into test and valid sets\n",
    "X_valid, X_test, y_valid, y_test = train_test_split(X_rem, y_rem, test_size=0.5, stratify=y_rem)\n",
    "X_train.shape, X_valid.shape, X_test.shape"
   ]
  },
  {
   "cell_type": "code",
   "execution_count": 42,
   "metadata": {},
   "outputs": [
    {
     "name": "stdout",
     "output_type": "stream",
     "text": [
      "Model: \"sequential_5\"\n",
      "_________________________________________________________________\n",
      " Layer (type)                Output Shape              Param #   \n",
      "=================================================================\n",
      " conv1d_15 (Conv1D)          (None, 158, 128)          8192      \n",
      "                                                                 \n",
      " activation_20 (Activation)  (None, 158, 128)          0         \n",
      "                                                                 \n",
      " max_pooling1d_15 (MaxPooli  (None, 52, 128)           0         \n",
      " ng1D)                                                           \n",
      "                                                                 \n",
      " conv1d_16 (Conv1D)          (None, 50, 82)            31570     \n",
      "                                                                 \n",
      " activation_21 (Activation)  (None, 50, 82)            0         \n",
      "                                                                 \n",
      " max_pooling1d_16 (MaxPooli  (None, 16, 82)            0         \n",
      " ng1D)                                                           \n",
      "                                                                 \n",
      " conv1d_17 (Conv1D)          (None, 14, 64)            15808     \n",
      "                                                                 \n",
      " activation_22 (Activation)  (None, 14, 64)            0         \n",
      "                                                                 \n",
      " max_pooling1d_17 (MaxPooli  (None, 4, 64)             0         \n",
      " ng1D)                                                           \n",
      "                                                                 \n",
      " flatten_5 (Flatten)         (None, 256)               0         \n",
      "                                                                 \n",
      " dense_10 (Dense)            (None, 64)                16448     \n",
      "                                                                 \n",
      " dense_11 (Dense)            (None, 6)                 390       \n",
      "                                                                 \n",
      " activation_23 (Activation)  (None, 6)                 0         \n",
      "                                                                 \n",
      "=================================================================\n",
      "Total params: 72408 (282.84 KB)\n",
      "Trainable params: 72408 (282.84 KB)\n",
      "Non-trainable params: 0 (0.00 Byte)\n",
      "_________________________________________________________________\n"
     ]
    }
   ],
   "source": [
    "import tensorflow as tf\n",
    "from keras.models import Sequential\n",
    "from keras.layers import Dense, Dropout, Activation, Flatten, Conv2D, MaxPool1D, LSTM, Bidirectional, MaxPooling2D, Conv1D\n",
    "from model import labels\n",
    "\n",
    "def create_model():\n",
    "  model = tf.keras.Sequential()\n",
    "  \n",
    "  model.add(Conv1D(128, 3, input_shape=X.shape[1:]))\n",
    "  model.add(Activation(\"relu\"))\n",
    "  model.add(MaxPool1D(pool_size=3))\n",
    "\n",
    "  model.add(Conv1D(82, 3))\n",
    "  model.add(Activation(\"relu\"))\n",
    "  model.add(MaxPool1D(pool_size=3))\n",
    "\n",
    "  model.add(Conv1D(64, 3))\n",
    "  model.add(Activation(\"relu\"))\n",
    "  model.add(MaxPool1D(pool_size=3))\n",
    "\n",
    "  model.add(Flatten())\n",
    "  model.add(Dense(64))\n",
    "\n",
    "  model.add(Dense(len(labels)))\n",
    "  model.add(Activation(\"softmax\"))\n",
    "\n",
    "  model.compile(optimizer='adam',\n",
    "              loss = \"categorical_crossentropy\",\n",
    "              metrics=['accuracy'])\n",
    "  \n",
    "  return model\n",
    "\n",
    "\n",
    "\n",
    "# create convolution model\n",
    "model = create_model()\n",
    "model.summary()"
   ]
  },
  {
   "cell_type": "code",
   "execution_count": 43,
   "metadata": {},
   "outputs": [
    {
     "name": "stdout",
     "output_type": "stream",
     "text": [
      "Epoch 1/100\n",
      "8/8 - 2s - loss: 3.6188 - accuracy: 0.3163 - val_loss: 1.6401 - val_accuracy: 0.5238 - 2s/epoch - 207ms/step\n",
      "Epoch 2/100\n",
      "8/8 - 0s - loss: 1.2314 - accuracy: 0.5714 - val_loss: 1.0009 - val_accuracy: 0.6952 - 344ms/epoch - 43ms/step\n",
      "Epoch 3/100\n",
      "8/8 - 0s - loss: 0.7624 - accuracy: 0.7755 - val_loss: 0.6414 - val_accuracy: 0.8000 - 384ms/epoch - 48ms/step\n",
      "Epoch 4/100\n",
      "8/8 - 0s - loss: 0.4450 - accuracy: 0.8959 - val_loss: 0.3507 - val_accuracy: 0.9333 - 370ms/epoch - 46ms/step\n",
      "Epoch 5/100\n",
      "8/8 - 0s - loss: 0.2367 - accuracy: 0.9653 - val_loss: 0.2098 - val_accuracy: 0.9714 - 362ms/epoch - 45ms/step\n",
      "Epoch 6/100\n",
      "8/8 - 0s - loss: 0.1293 - accuracy: 0.9898 - val_loss: 0.1125 - val_accuracy: 0.9905 - 331ms/epoch - 41ms/step\n",
      "Epoch 7/100\n",
      "8/8 - 0s - loss: 0.0734 - accuracy: 0.9939 - val_loss: 0.0615 - val_accuracy: 0.9905 - 358ms/epoch - 45ms/step\n",
      "Epoch 8/100\n",
      "8/8 - 0s - loss: 0.0404 - accuracy: 0.9939 - val_loss: 0.0376 - val_accuracy: 0.9905 - 352ms/epoch - 44ms/step\n",
      "Epoch 9/100\n",
      "8/8 - 0s - loss: 0.0234 - accuracy: 1.0000 - val_loss: 0.0226 - val_accuracy: 1.0000 - 348ms/epoch - 44ms/step\n",
      "Epoch 10/100\n",
      "8/8 - 0s - loss: 0.0148 - accuracy: 1.0000 - val_loss: 0.0141 - val_accuracy: 1.0000 - 325ms/epoch - 41ms/step\n",
      "Epoch 11/100\n",
      "8/8 - 0s - loss: 0.0100 - accuracy: 1.0000 - val_loss: 0.0097 - val_accuracy: 1.0000 - 320ms/epoch - 40ms/step\n",
      "Epoch 12/100\n",
      "8/8 - 0s - loss: 0.0069 - accuracy: 1.0000 - val_loss: 0.0074 - val_accuracy: 1.0000 - 319ms/epoch - 40ms/step\n",
      "Epoch 13/100\n",
      "8/8 - 0s - loss: 0.0052 - accuracy: 1.0000 - val_loss: 0.0063 - val_accuracy: 1.0000 - 319ms/epoch - 40ms/step\n",
      "Epoch 14/100\n",
      "8/8 - 0s - loss: 0.0040 - accuracy: 1.0000 - val_loss: 0.0053 - val_accuracy: 1.0000 - 334ms/epoch - 42ms/step\n",
      "Epoch 15/100\n",
      "8/8 - 0s - loss: 0.0032 - accuracy: 1.0000 - val_loss: 0.0047 - val_accuracy: 1.0000 - 338ms/epoch - 42ms/step\n",
      "Epoch 16/100\n",
      "8/8 - 0s - loss: 0.0027 - accuracy: 1.0000 - val_loss: 0.0044 - val_accuracy: 1.0000 - 331ms/epoch - 41ms/step\n",
      "Epoch 17/100\n",
      "8/8 - 0s - loss: 0.0022 - accuracy: 1.0000 - val_loss: 0.0041 - val_accuracy: 1.0000 - 317ms/epoch - 40ms/step\n",
      "Epoch 18/100\n",
      "8/8 - 0s - loss: 0.0020 - accuracy: 1.0000 - val_loss: 0.0033 - val_accuracy: 1.0000 - 319ms/epoch - 40ms/step\n",
      "Epoch 19/100\n",
      "8/8 - 0s - loss: 0.0018 - accuracy: 1.0000 - val_loss: 0.0033 - val_accuracy: 1.0000 - 373ms/epoch - 47ms/step\n",
      "Epoch 20/100\n",
      "8/8 - 0s - loss: 0.0015 - accuracy: 1.0000 - val_loss: 0.0034 - val_accuracy: 1.0000 - 269ms/epoch - 34ms/step\n",
      "Epoch 21/100\n",
      "8/8 - 0s - loss: 0.0014 - accuracy: 1.0000 - val_loss: 0.0029 - val_accuracy: 1.0000 - 293ms/epoch - 37ms/step\n",
      "Epoch 22/100\n",
      "8/8 - 0s - loss: 0.0012 - accuracy: 1.0000 - val_loss: 0.0027 - val_accuracy: 1.0000 - 332ms/epoch - 41ms/step\n",
      "Epoch 23/100\n",
      "8/8 - 0s - loss: 0.0011 - accuracy: 1.0000 - val_loss: 0.0026 - val_accuracy: 1.0000 - 358ms/epoch - 45ms/step\n",
      "Epoch 24/100\n",
      "8/8 - 0s - loss: 0.0010 - accuracy: 1.0000 - val_loss: 0.0025 - val_accuracy: 1.0000 - 320ms/epoch - 40ms/step\n",
      "Epoch 25/100\n",
      "8/8 - 0s - loss: 9.3300e-04 - accuracy: 1.0000 - val_loss: 0.0024 - val_accuracy: 1.0000 - 330ms/epoch - 41ms/step\n",
      "Epoch 26/100\n",
      "8/8 - 0s - loss: 8.6707e-04 - accuracy: 1.0000 - val_loss: 0.0024 - val_accuracy: 1.0000 - 339ms/epoch - 42ms/step\n",
      "Epoch 27/100\n",
      "8/8 - 0s - loss: 7.9929e-04 - accuracy: 1.0000 - val_loss: 0.0022 - val_accuracy: 1.0000 - 332ms/epoch - 42ms/step\n",
      "Epoch 28/100\n",
      "8/8 - 0s - loss: 7.4113e-04 - accuracy: 1.0000 - val_loss: 0.0020 - val_accuracy: 1.0000 - 327ms/epoch - 41ms/step\n",
      "Epoch 29/100\n",
      "8/8 - 0s - loss: 6.8997e-04 - accuracy: 1.0000 - val_loss: 0.0020 - val_accuracy: 1.0000 - 310ms/epoch - 39ms/step\n",
      "Epoch 30/100\n",
      "8/8 - 0s - loss: 6.4497e-04 - accuracy: 1.0000 - val_loss: 0.0020 - val_accuracy: 1.0000 - 298ms/epoch - 37ms/step\n",
      "Epoch 31/100\n",
      "8/8 - 0s - loss: 6.0202e-04 - accuracy: 1.0000 - val_loss: 0.0020 - val_accuracy: 1.0000 - 257ms/epoch - 32ms/step\n",
      "Epoch 32/100\n",
      "8/8 - 0s - loss: 5.6895e-04 - accuracy: 1.0000 - val_loss: 0.0020 - val_accuracy: 1.0000 - 282ms/epoch - 35ms/step\n"
     ]
    },
    {
     "data": {
      "image/png": "[encoded data removed]",
      "text/plain": [
       "<Figure size 640x480 with 1 Axes>"
      ]
     },
     "metadata": {},
     "output_type": "display_data"
    }
   ],
   "source": [
    "import datetime\n",
    "def display_training_history(history, title):\n",
    "  plt.plot(history.history['loss'])\n",
    "  plt.plot(history.history['val_loss'])\n",
    "  plt.title(title)\n",
    "  plt.ylabel('loss')\n",
    "  plt.xlabel('epoch')\n",
    "  plt.legend(['train', 'val'], loc='upper left')\n",
    "  plt.show()\n",
    "\n",
    "early_stopping = tf.keras.callbacks.EarlyStopping(monitor='val_loss', patience=4, min_delta=0.0001)\n",
    "timestamp = datetime.datetime.now().strftime(\"%Y%m%d-%H%M%S\")\n",
    "checkpoint_path = f\"checkpoints/{timestamp}/\"\n",
    "checkpoint = tf.keras.callbacks.ModelCheckpoint(filepath=checkpoint_path,save_weights_only=True, monitor='val_loss', mode='min',save_best_only=True)\n",
    "\n",
    "train_history = model.fit(\n",
    "    X_train, \n",
    "    y_train,\n",
    "    epochs = 100,\n",
    "    validation_data = (X_valid, y_valid),\n",
    "    verbose = 2,\n",
    "    callbacks=[early_stopping,checkpoint],\n",
    "    batch_size=64)\n",
    "\n",
    "model.load_weights(checkpoint_path)\n",
    "display_training_history(train_history, \"Training\")"
   ]
  },
  {
   "cell_type": "code",
   "execution_count": 44,
   "metadata": {},
   "outputs": [
    {
     "name": "stdout",
     "output_type": "stream",
     "text": [
      "WARNING:tensorflow:5 out of the last 6 calls to <function Model.make_predict_function.<locals>.predict_function at 0x000001FDD396AE80> triggered tf.function retracing. Tracing is expensive and the excessive number of tracings could be due to (1) creating @tf.function repeatedly in a loop, (2) passing tensors with different shapes, (3) passing Python objects instead of tensors. For (1), please define your @tf.function outside of the loop. For (2), @tf.function has reduce_retracing=True option that can avoid unnecessary retracing. For (3), please refer to https://www.tensorflow.org/guide/function#controlling_retracing and https://www.tensorflow.org/api_docs/python/tf/function for  more details.\n",
      "4/4 [==============================] - 0s 6ms/step\n",
      "              precision    recall  f1-score   support\n",
      "\n",
      "   circle_in       1.00      1.00      1.00        16\n",
      "  circle_out       1.00      1.00      1.00        18\n",
      "        down       1.00      1.00      1.00        18\n",
      "        left       1.00      1.00      1.00        18\n",
      "       right       1.00      1.00      1.00        18\n",
      "          up       1.00      1.00      1.00        17\n",
      "\n",
      "    accuracy                           1.00       105\n",
      "   macro avg       1.00      1.00      1.00       105\n",
      "weighted avg       1.00      1.00      1.00       105\n",
      "\n"
     ]
    }
   ],
   "source": [
    "# create classification report\n",
    "from sklearn.metrics import classification_report\n",
    "from model import index_to_label\n",
    "y_pred = model.predict(X_test)\n",
    "\n",
    "pred_classes = [index_to_label[i] for i in np.argmax(y_pred, axis=1)]\n",
    "true_classes = [index_to_label[i] for i in np.argmax(y_test, axis=1)]\n",
    "print(classification_report(true_classes, pred_classes))"
   ]
  },
  {
   "cell_type": "code",
   "execution_count": 45,
   "metadata": {},
   "outputs": [
    {
     "data": {
      "text/plain": [
       "<sklearn.metrics._plot.confusion_matrix.ConfusionMatrixDisplay at 0x1fdcce515d0>"
      ]
     },
     "execution_count": 45,
     "metadata": {},
     "output_type": "execute_result"
    },
    {
     "data": {
      "image/png": "[encoded data removed]",
      "text/plain": [
       "<Figure size 640x480 with 2 Axes>"
      ]
     },
     "metadata": {},
     "output_type": "display_data"
    }
   ],
   "source": [
    "# create confusion matrix\n",
    "from sklearn.metrics import confusion_matrix, ConfusionMatrixDisplay\n",
    "\n",
    "\n",
    "matrix = confusion_matrix(pred_classes, true_classes)\n",
    "disp = ConfusionMatrixDisplay(confusion_matrix=matrix, display_labels=set(pred_classes))\n",
    "disp.plot()"
   ]
  },
  {
   "cell_type": "code",
   "execution_count": 46,
   "metadata": {},
   "outputs": [
    {
     "name": "stdout",
     "output_type": "stream",
     "text": [
      "saved_models/conv_20230814164104.sav\n"
     ]
    }
   ],
   "source": [
    "import pickle\n",
    "timestamp = pd.Timestamp.now().strftime(\"%Y%m%d%H%M%S\")\n",
    "file_name = f\"saved_models/conv_{timestamp}.sav\"\n",
    "pickle.dump(model, open(file_name, 'wb'))\n",
    "print(file_name)"
   ]
  }
 ],
 "metadata": {
  "kernelspec": {
   "display_name": "Python 3",
   "language": "python",
   "name": "python3"
  },
  "language_info": {
   "codemirror_mode": {
    "name": "ipython",
    "version": 3
   },
   "file_extension": ".py",
   "mimetype": "text/x-python",
   "name": "python",
   "nbconvert_exporter": "python",
   "pygments_lexer": "ipython3",
   "version": "3.11.4"
  },
  "orig_nbformat": 4
 },
 "nbformat": 4,
 "nbformat_minor": 2
}
